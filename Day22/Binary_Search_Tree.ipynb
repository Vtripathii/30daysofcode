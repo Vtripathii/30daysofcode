{
 "cells": [
  {
   "cell_type": "code",
   "execution_count": 10,
   "metadata": {},
   "outputs": [
    {
     "name": "stdout",
     "output_type": "stream",
     "text": [
      "7\n",
      "3\n",
      "5\n",
      "2\n",
      "1\n",
      "4\n",
      "6\n",
      "7\n",
      "3\n"
     ]
    }
   ],
   "source": [
    "class Node:\n",
    "    def __init__(self,data):\n",
    "        self.right=self.left=None\n",
    "        self.data = data\n",
    "class Solution:\n",
    "    def insert(self,root,data):\n",
    "        if root==None:\n",
    "            return Node(data)\n",
    "        else:\n",
    "            if data<=root.data:\n",
    "                cur=self.insert(root.left,data)\n",
    "                root.left=cur\n",
    "            else:\n",
    "                cur=self.insert(root.right,data)\n",
    "                root.right=cur\n",
    "        return root\n",
    "\n",
    "    def getHeight(self,root):\n",
    "        #Write your code here\n",
    "        if root is None:\n",
    "            return 0\n",
    "\n",
    "        if root.left is None and root.right is None:\n",
    "            return 0\n",
    "\n",
    "        hleft = self.getHeight(root.left)\n",
    "        hright = self.getHeight(root.right)\n",
    "\n",
    "        height = 1 + max(hleft, hright)\n",
    "        return height\n",
    "\n",
    "\n",
    "T = int(input())\n",
    "myTree = Solution()\n",
    "root = None\n",
    "for i in range(T):\n",
    "    data=int(input())\n",
    "    root = myTree.insert(root,data)\n",
    "height = myTree.getHeight(root)\n",
    "print (height)"
   ]
  },
  {
   "cell_type": "code",
   "execution_count": null,
   "metadata": {},
   "outputs": [],
   "source": []
  }
 ],
 "metadata": {
  "kernelspec": {
   "display_name": "Python 3",
   "language": "python",
   "name": "python3"
  },
  "language_info": {
   "codemirror_mode": {
    "name": "ipython",
    "version": 3
   },
   "file_extension": ".py",
   "mimetype": "text/x-python",
   "name": "python",
   "nbconvert_exporter": "python",
   "pygments_lexer": "ipython3",
   "version": "3.7.7"
  }
 },
 "nbformat": 4,
 "nbformat_minor": 4
}
