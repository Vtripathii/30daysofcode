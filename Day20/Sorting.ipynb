{
 "cells": [
  {
   "cell_type": "code",
   "execution_count": 1,
   "metadata": {},
   "outputs": [
    {
     "name": "stdout",
     "output_type": "stream",
     "text": [
      "3\n",
      "1 2 3\n",
      "Array is sorted in 0 swaps.\n",
      "First Element: 1\n",
      "Last Element: 3\n"
     ]
    }
   ],
   "source": [
    "import sys\n",
    "\n",
    "\n",
    "n = int(input().strip())\n",
    "a = list(map(int, input().strip().split(' ')))\n",
    "numberOfSwaps = 0\n",
    "for i in range(0,n):\n",
    "    for j in range(0, n-1):\n",
    "        if (a[j] > a[j + 1]):\n",
    "            temp=a[j]\n",
    "            a[j] = a[j+1]\n",
    "            a[j+1] = temp\n",
    "            numberOfSwaps += 1\n",
    "    if (numberOfSwaps == 0):\n",
    "        break\n",
    "print( \"Array is sorted in \" + str(numberOfSwaps) + \" swaps.\" )\n",
    "print( \"First Element: \" + str(a[0]) )\n",
    "print( \"Last Element: \" +  str(a[n-1]) )"
   ]
  },
  {
   "cell_type": "code",
   "execution_count": null,
   "metadata": {},
   "outputs": [],
   "source": []
  }
 ],
 "metadata": {
  "kernelspec": {
   "display_name": "Python 3",
   "language": "python",
   "name": "python3"
  },
  "language_info": {
   "codemirror_mode": {
    "name": "ipython",
    "version": 3
   },
   "file_extension": ".py",
   "mimetype": "text/x-python",
   "name": "python",
   "nbconvert_exporter": "python",
   "pygments_lexer": "ipython3",
   "version": "3.7.7"
  }
 },
 "nbformat": 4,
 "nbformat_minor": 4
}
