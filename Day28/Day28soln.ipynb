{
 "cells": [
  {
   "cell_type": "code",
   "execution_count": 1,
   "metadata": {},
   "outputs": [
    {
     "name": "stdout",
     "output_type": "stream",
     "text": [
      "6\n",
      "riya riya@gmail.com\n",
      "julia julia@julia.me\n",
      "julia sjulia@gmail.com\n",
      "julia julia@gmail.com\n",
      "samantha samantha@gmail.com\n",
      "tanya tanya@gmail.com\n",
      "julia\n",
      "julia\n",
      "riya\n",
      "samantha\n",
      "tanya\n"
     ]
    }
   ],
   "source": [
    "import math\n",
    "import os\n",
    "import random\n",
    "import re\n",
    "import sys\n",
    "\n",
    "\n",
    "\n",
    "if __name__ == '__main__':\n",
    "    N = int(input().strip())\n",
    "    names = []\n",
    "    for a0 in range(N):\n",
    "        firstName,emailID = input().strip().split(' ')\n",
    "        firstName,emailID = [str(firstName),str(emailID)]\n",
    "        if (emailID.endswith('@gmail.com')):\n",
    "         names.append(firstName)\n",
    "        \n",
    "for elem in sorted(names):\n",
    "    print (elem)"
   ]
  },
  {
   "cell_type": "code",
   "execution_count": null,
   "metadata": {},
   "outputs": [],
   "source": []
  }
 ],
 "metadata": {
  "kernelspec": {
   "display_name": "Python 3",
   "language": "python",
   "name": "python3"
  },
  "language_info": {
   "codemirror_mode": {
    "name": "ipython",
    "version": 3
   },
   "file_extension": ".py",
   "mimetype": "text/x-python",
   "name": "python",
   "nbconvert_exporter": "python",
   "pygments_lexer": "ipython3",
   "version": "3.7.7"
  }
 },
 "nbformat": 4,
 "nbformat_minor": 4
}
