{
 "cells": [
  {
   "cell_type": "code",
   "execution_count": 2,
   "metadata": {},
   "outputs": [
    {
     "name": "stdout",
     "output_type": "stream",
     "text": [
      "3\n",
      "1 2 5\n",
      "4\n"
     ]
    }
   ],
   "source": [
    "class Difference:\n",
    "    def __init__(self, a):\n",
    "        self.__elements = a\n",
    "        self.maximumDifference = 0\n",
    "\n",
    "    def computeDifference(self):\n",
    "        self.maximumDifference = (max(self.__elements) - min(self.__elements))\n",
    "\n",
    "\n",
    "# End of Difference class\n",
    "\n",
    "_ = input()\n",
    "a = [int(e) for e in input().split(' ')]\n",
    "\n",
    "d = Difference(a)\n",
    "d.computeDifference()\n",
    "\n",
    "print(d.maximumDifference)\n"
   ]
  },
  {
   "cell_type": "code",
   "execution_count": null,
   "metadata": {},
   "outputs": [],
   "source": []
  }
 ],
 "metadata": {
  "kernelspec": {
   "display_name": "Python 3",
   "language": "python",
   "name": "python3"
  },
  "language_info": {
   "codemirror_mode": {
    "name": "ipython",
    "version": 3
   },
   "file_extension": ".py",
   "mimetype": "text/x-python",
   "name": "python",
   "nbconvert_exporter": "python",
   "pygments_lexer": "ipython3",
   "version": "3.7.7"
  }
 },
 "nbformat": 4,
 "nbformat_minor": 4
}
