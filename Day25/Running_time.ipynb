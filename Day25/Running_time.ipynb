{
 "cells": [
  {
   "cell_type": "code",
   "execution_count": 1,
   "metadata": {},
   "outputs": [
    {
     "name": "stdout",
     "output_type": "stream",
     "text": [
      "3\n",
      "12\n",
      "5\n",
      "7\n",
      "Not prime\n",
      "Prime\n",
      "Prime\n"
     ]
    }
   ],
   "source": [
    "def isPrime(n):\n",
    "    if n < 2:\n",
    "        return False\n",
    "    i = 2\n",
    "    while i**2 <= n:\n",
    "        if n % i:\n",
    "            i += 1\n",
    "        else:\n",
    "            return False\n",
    "    return True\n",
    "\n",
    "n = int(input())\n",
    "values = [int(input()) for _ in range(n)]\n",
    "\n",
    "for v in values:\n",
    "    if isPrime(v):\n",
    "        print(\"Prime\")\n",
    "    else:\n",
    "        print(\"Not prime\")"
   ]
  },
  {
   "cell_type": "code",
   "execution_count": null,
   "metadata": {},
   "outputs": [],
   "source": []
  }
 ],
 "metadata": {
  "kernelspec": {
   "display_name": "Python 3",
   "language": "python",
   "name": "python3"
  },
  "language_info": {
   "codemirror_mode": {
    "name": "ipython",
    "version": 3
   },
   "file_extension": ".py",
   "mimetype": "text/x-python",
   "name": "python",
   "nbconvert_exporter": "python",
   "pygments_lexer": "ipython3",
   "version": "3.7.7"
  }
 },
 "nbformat": 4,
 "nbformat_minor": 4
}
