{
 "cells": [
  {
   "cell_type": "code",
   "execution_count": 1,
   "metadata": {},
   "outputs": [
    {
     "name": "stdout",
     "output_type": "stream",
     "text": [
      "9 6 2015\n",
      "6 6 2015\n",
      "45\n"
     ]
    }
   ],
   "source": [
    "da, ma, ya = input().split(' ')\n",
    "da = int(da)\n",
    "ma = int(ma)\n",
    "ya = int(ya)\n",
    "de, me, ye = input().split(' ')\n",
    "de = int(de)\n",
    "me = int(me)\n",
    "ye = int(ye)\n",
    "fine = 0\n",
    "if(ye==ya):\n",
    "    if(me < ma):\n",
    "        fine = (ma - me) * 500\n",
    "    elif((me == ma) and (de < da)):\n",
    "        fine = (da - de) * 15\n",
    "elif(ye < ya):\n",
    "    fine = 10000\n",
    "\n",
    "print( fine )"
   ]
  },
  {
   "cell_type": "code",
   "execution_count": null,
   "metadata": {},
   "outputs": [],
   "source": []
  }
 ],
 "metadata": {
  "kernelspec": {
   "display_name": "Python 3",
   "language": "python",
   "name": "python3"
  },
  "language_info": {
   "codemirror_mode": {
    "name": "ipython",
    "version": 3
   },
   "file_extension": ".py",
   "mimetype": "text/x-python",
   "name": "python",
   "nbconvert_exporter": "python",
   "pygments_lexer": "ipython3",
   "version": "3.7.7"
  }
 },
 "nbformat": 4,
 "nbformat_minor": 4
}
